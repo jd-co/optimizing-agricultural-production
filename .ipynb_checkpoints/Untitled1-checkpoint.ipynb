{
 "cells": [
  {
   "cell_type": "code",
   "execution_count": 6,
   "id": "e3954c96",
   "metadata": {},
   "outputs": [
    {
     "name": "stdout",
     "output_type": "stream",
     "text": [
      " * Serving Flask app '__main__'\n",
      " * Debug mode: on\n"
     ]
    },
    {
     "name": "stderr",
     "output_type": "stream",
     "text": [
      "C:\\ProgramData\\anaconda3\\lib\\site-packages\\sklearn\\linear_model\\_logistic.py:458: ConvergenceWarning: lbfgs failed to converge (status=1):\n",
      "STOP: TOTAL NO. of ITERATIONS REACHED LIMIT.\n",
      "\n",
      "Increase the number of iterations (max_iter) or scale the data as shown in:\n",
      "    https://scikit-learn.org/stable/modules/preprocessing.html\n",
      "Please also refer to the documentation for alternative solver options:\n",
      "    https://scikit-learn.org/stable/modules/linear_model.html#logistic-regression\n",
      "  n_iter_i = _check_optimize_result(\n",
      "WARNING: This is a development server. Do not use it in a production deployment. Use a production WSGI server instead.\n",
      " * Running on all addresses (0.0.0.0)\n",
      " * Running on http://127.0.0.1:5000\n",
      " * Running on http://192.168.123.21:5000\n",
      "Press CTRL+C to quit\n",
      " * Restarting with stat\n"
     ]
    },
    {
     "ename": "SystemExit",
     "evalue": "1",
     "output_type": "error",
     "traceback": [
      "An exception has occurred, use %tb to see the full traceback.\n",
      "\u001b[1;31mSystemExit\u001b[0m\u001b[1;31m:\u001b[0m 1\n"
     ]
    },
    {
     "name": "stderr",
     "output_type": "stream",
     "text": [
      "C:\\ProgramData\\anaconda3\\lib\\site-packages\\IPython\\core\\interactiveshell.py:3513: UserWarning: To exit: use 'exit', 'quit', or Ctrl-D.\n",
      "  warn(\"To exit: use 'exit', 'quit', or Ctrl-D.\", stacklevel=1)\n"
     ]
    }
   ],
   "source": [
    "import json\n",
    "from flask import Flask, request, jsonify\n",
    "from flask_cors import CORS\n",
    "import numpy as np\n",
    "import pandas as pd\n",
    "from sklearn.linear_model import LogisticRegression\n",
    "from sklearn.preprocessing import StandardScaler\n",
    "from sklearn.model_selection import train_test_split\n",
    "\n",
    "app = Flask(__name__)\n",
    "CORS(app)\n",
    "\n",
    "# Read the dataset\n",
    "data = pd.read_csv('data.csv')\n",
    "\n",
    "# Prepare the training data\n",
    "x = data.drop('label', axis=1)\n",
    "y = data['label']\n",
    "\n",
    "x_train, x_test, y_train, y_test = train_test_split(x, y, test_size=0.2, random_state=0)\n",
    "\n",
    "# Scale the input data\n",
    "scaler = StandardScaler()\n",
    "x_train_scaled = scaler.fit_transform(x_train)\n",
    "\n",
    "# Train the machine learning model\n",
    "model = LogisticRegression(*args, **kwargs, max_iter=1000)\n",
    "model.fit(x_train, y_train)\n",
    "\n",
    "@app.route('/', methods=['POST'])\n",
    "def predict_crop():\n",
    "    data = request.get_json()\n",
    "\n",
    "    # Extract input values from the received JSON data\n",
    "    nitrogen = float(data['nitrogen'])\n",
    "    potassium = float(data['potassium'])\n",
    "    phosphorus = float(data['phosphorus'])\n",
    "    humidity = float(data['humidity'])\n",
    "    temperature = float(data['temperature'])\n",
    "    rainfall = float(data['rainfall'])\n",
    "    ph = float(data['ph'])\n",
    "\n",
    "    # Prepare the input data for prediction as a NumPy array\n",
    "    input_data = np.array([[nitrogen, phosphorus, potassium, temperature, humidity, ph, rainfall]])\n",
    "\n",
    "    # Scale the input data\n",
    "    #input_data_scaled = scaler.fit_transform(input_data)\n",
    "\n",
    "    # Make the crop prediction\n",
    "    predicted_crop = model.predict(input_data)[0]\n",
    "\n",
    "    # Convert the predicted crop to a JSON response\n",
    "    response = {\n",
    "        'predicted_crop': predicted_crop\n",
    "    }\n",
    "\n",
    "    return json.dumps(response)\n",
    "\n",
    "if __name__ == '__main__':\n",
    "    app.run(host='0.0.0.0', debug=True)\n"
   ]
  },
  {
   "cell_type": "code",
   "execution_count": null,
   "id": "394b2ed5",
   "metadata": {},
   "outputs": [],
   "source": []
  }
 ],
 "metadata": {
  "kernelspec": {
   "display_name": "Python 3 (ipykernel)",
   "language": "python",
   "name": "python3"
  },
  "language_info": {
   "codemirror_mode": {
    "name": "ipython",
    "version": 3
   },
   "file_extension": ".py",
   "mimetype": "text/x-python",
   "name": "python",
   "nbconvert_exporter": "python",
   "pygments_lexer": "ipython3",
   "version": "3.10.9"
  }
 },
 "nbformat": 4,
 "nbformat_minor": 5
}
